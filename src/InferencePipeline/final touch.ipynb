{
 "cells": [
  {
   "cell_type": "code",
   "execution_count": 2,
   "id": "a0969ca5",
   "metadata": {},
   "outputs": [],
   "source": [
    "import speech_recognition as sr\n",
    "import moviepy.editor as mp\n",
    "import tensorflow as tf\n",
    "import cv2\n",
    "from moviepy.editor import VideoFileClip\n",
    "from translate import Translator\n",
    "from gtts import gTTS \n",
    "import os \n",
    "from mutagen.mp3 import MP3\n",
    "import cv2\n",
    "import datetime\n",
    "from scipy.io import wavfile\n",
    "import scipy\n",
    "import librosa\n",
    "import numpy as np\n",
    "from moviepy.editor import *\n",
    "import soundfile\n"
   ]
  },
  {
   "cell_type": "code",
   "execution_count": 3,
   "id": "58c98686",
   "metadata": {},
   "outputs": [],
   "source": [
    "def translation(transcript):\n",
    "    translator= Translator(to_lang=\"ar\")\n",
    "    final_transcript =[]\n",
    "    sentences = transcript.split(\".\")\n",
    "    for sent in sentences:\n",
    "        if len(sent)>500:\n",
    "            new_sentences = sent.split(\",\")\n",
    "            status = []\n",
    "            for new_sent in new_sentences:\n",
    "                status.append(translator.translate(new_sent))\n",
    "            final_transcript.append(\" \".join(status))\n",
    "        else:    \n",
    "            final_transcript.append(translator.translate(sent))\n",
    "    arabic_text = \". \".join(final_transcript)\n",
    "    print(\"Translation function is done ^_^\")\n",
    "    return arabic_text"
   ]
  },
  {
   "cell_type": "code",
   "execution_count": 4,
   "id": "c1ebe0dc",
   "metadata": {},
   "outputs": [
    {
     "name": "stdout",
     "output_type": "stream",
     "text": [
      "Translation function is done ^_^\n"
     ]
    },
    {
     "data": {
      "text/plain": [
       "'كيف حالك, ما أخبارك. '"
      ]
     },
     "execution_count": 4,
     "metadata": {},
     "output_type": "execute_result"
    }
   ],
   "source": [
    "translation('how are you.')"
   ]
  },
  {
   "cell_type": "code",
   "execution_count": null,
   "id": "c7498c1b",
   "metadata": {},
   "outputs": [],
   "source": [
    "!git clone https://github.com/ARBML/klaam.git"
   ]
  },
  {
   "cell_type": "code",
   "execution_count": 2,
   "id": "74bac1f9",
   "metadata": {},
   "outputs": [
    {
     "name": "stdout",
     "output_type": "stream",
     "text": [
      "F:\\jupyter_workspace\\new_backend\\klaam\n"
     ]
    }
   ],
   "source": [
    "%cd F:\\jupyter_workspace\\new_backend\\klaam"
   ]
  },
  {
   "cell_type": "code",
   "execution_count": 3,
   "id": "599f4bf0",
   "metadata": {},
   "outputs": [],
   "source": [
    "from klaam import TextToSpeech\n",
    "from IPython.display import Audio\n",
    "import mishkal.tashkeel"
   ]
  },
  {
   "cell_type": "code",
   "execution_count": 4,
   "id": "af744195",
   "metadata": {},
   "outputs": [
    {
     "name": "stdout",
     "output_type": "stream",
     "text": [
      "F:\\jupyter_workspace\\new_backend\n"
     ]
    }
   ],
   "source": [
    "%cd F:\\jupyter_workspace\\new_backend"
   ]
  },
  {
   "cell_type": "code",
   "execution_count": 5,
   "id": "28b9abee",
   "metadata": {},
   "outputs": [],
   "source": [
    "from deepmultilingualpunctuation import PunctuationModel\n",
    "model_p = PunctuationModel()"
   ]
  },
  {
   "cell_type": "code",
   "execution_count": 6,
   "id": "2a6890ea",
   "metadata": {},
   "outputs": [],
   "source": [
    "# # Get Sound from video\n",
    "# video_path = 'video.mp4'\n",
    "# sound_path = 'sound.wav'\n",
    "# final_cut='final_cut.mp4' #frames\n",
    "# arabic_sound = 'arabic_sound.mp3'\n",
    "# compressed_arabic_sound = 'compressed_arabic_sound.wav'\n",
    "# final_video = 'modablg.mp4'"
   ]
  },
  {
   "cell_type": "code",
   "execution_count": 7,
   "id": "cb76f64f",
   "metadata": {},
   "outputs": [],
   "source": [
    "import moviepy.editor as mp\n",
    "import cv2\n",
    "\n",
    "def clipping(video_path, sound_path, final_cut):\n",
    "    print(\"Clipping function is starting ^_^\")\n",
    "    clip = mp.VideoFileClip(video_path)\n",
    "    clip.audio.write_audiofile(sound_path)\n",
    "    video = cv2.VideoCapture(video_path)\n",
    "    videoclip = mp.VideoFileClip(video_path)\n",
    "    new_clip = videoclip.without_audio()\n",
    "    new_clip.write_videofile(final_cut)\n",
    "    print(\"Clipping function is done ^_^\")\n"
   ]
  },
  {
   "cell_type": "code",
   "execution_count": 8,
   "id": "679df26f",
   "metadata": {},
   "outputs": [],
   "source": [
    "def recognition(sound_path):\n",
    "    audio = sr.AudioFile(sound_path)\n",
    "    with audio as source:\n",
    "        audio_file = sr.Recognizer().record(source)\n",
    "    result = sr.Recognizer().recognize_google(audio_file, pfilter=0)\n",
    "    result = model_p.restore_punctuation(result)\n",
    "    print(\"Recognation function is done ^_^\")\n",
    "    return result"
   ]
  },
  {
   "cell_type": "code",
   "execution_count": 9,
   "id": "be6825f0",
   "metadata": {},
   "outputs": [],
   "source": [
    "def get_sound_length(file_path):\n",
    "    sound_data, sample_rate = soundfile.read(file_path)\n",
    "    sound_length = len(sound_data) / sample_rate\n",
    "    print(\"get_sound_length function is done ^_^\")\n",
    "    return round(sound_length)/30"
   ]
  },
  {
   "cell_type": "code",
   "execution_count": 10,
   "id": "ba689dce",
   "metadata": {},
   "outputs": [],
   "source": [
    "def transcript_mah(recognized_text, sound_path):\n",
    "    words = recognized_text.split()\n",
    "    num_words = len(words)\n",
    "    sound_duration = get_sound_length(sound_path)\n",
    "    if sound_duration < 1:\n",
    "        print(\"Transcript function is done ^_^\")\n",
    "        return [\"0.00\"],\"0.00 \" + sound_duration\n",
    "    word_rate = int(num_words/sound_duration)\n",
    "    minutes = []\n",
    "    trans = []\n",
    "    for i in range(int(sound_duration)+1):\n",
    "        minutes.append(f\"{i}:00\")\n",
    "        start = word_rate * i\n",
    "        end = word_rate * (i+1)\n",
    "        trans.append(f\"{i}:00 \" + \" \".join(words[start:end]))\n",
    "        \n",
    "    print(\"Transcript function is done ^_^\")\n",
    "    return minutes , trans"
   ]
  },
  {
   "cell_type": "code",
   "execution_count": 11,
   "id": "a6ff2324",
   "metadata": {},
   "outputs": [],
   "source": [
    "def transcript_seb(recognized_text,sound_path):\n",
    "    words = recognized_text.split()\n",
    "    num_words = len(words)\n",
    "    sound_duration = get_sound_length(sound_path)\n",
    "    if sound_duration < 1:\n",
    "        print(\"Transcript function is done ^_^\")\n",
    "        return [\"0.00\"],\"0.00 \" + result\n",
    "    word_rate = int(num_words/sound_duration)\n",
    "    minu = []\n",
    "    trans = []\n",
    "    for i in range(int(sound_duration)+1):\n",
    "        start = word_rate * i\n",
    "        end = word_rate * (i+1)\n",
    "        if i%2 == 1:\n",
    "            minu.append(f\"{int(i/2)}:30\")\n",
    "            trans.append(f\"{int(i/2)}:30 \" + \" \".join(words[start:end]))\n",
    "        else:\n",
    "            minu.append(f\"{int(i/2)}:00\")\n",
    "            trans.append(f\"{int(i/2)}:00 \" + \" \".join(words[start:end]))\n",
    "\n",
    "    print(\"Transcript function is done ^_^\")\n",
    "    return minu , trans"
   ]
  },
  {
   "cell_type": "code",
   "execution_count": 12,
   "id": "45fd3d8c",
   "metadata": {},
   "outputs": [],
   "source": [
    "def translation(transcript):\n",
    "    translator= Translator(to_lang=\"ar\")\n",
    "    final_transcript =[]\n",
    "    sentences = transcript.split(\".\")\n",
    "    for sent in sentences:\n",
    "        if len(sent)>500:\n",
    "            new_sentences = sent.split(\",\")\n",
    "            status = []\n",
    "            for new_sent in new_sentences:\n",
    "                status.append(translator.translate(new_sent))\n",
    "            final_transcript.append(\" \".join(status))\n",
    "        else:    \n",
    "            final_transcript.append(translator.translate(sent))\n",
    "    arabic_text = \". \".join(final_transcript)\n",
    "    print(\"Translation function is done ^_^\")\n",
    "    return arabic_text"
   ]
  },
  {
   "cell_type": "code",
   "execution_count": 13,
   "id": "6eba5197",
   "metadata": {},
   "outputs": [],
   "source": [
    "vocalizer = mishkal.tashkeel.TashkeelClass()"
   ]
  },
  {
   "cell_type": "code",
   "execution_count": 14,
   "id": "3341aa1c",
   "metadata": {},
   "outputs": [
    {
     "name": "stdout",
     "output_type": "stream",
     "text": [
      "F:\\jupyter_workspace\\new_backend\\klaam\n"
     ]
    }
   ],
   "source": [
    "%cd klaam"
   ]
  },
  {
   "cell_type": "code",
   "execution_count": 15,
   "id": "145460b0",
   "metadata": {},
   "outputs": [],
   "source": [
    "def load_model():\n",
    "    root_path = r\"F:\\jupyter_workspace\\new_backend\\klaam\"\n",
    "    prepare_tts_model_path = \"cfgs/FastSpeech2/config/Arabic/preprocess.yaml\"\n",
    "    model_config_path = \"cfgs/FastSpeech2/config/Arabic/model.yaml\"\n",
    "    train_config_path = \"cfgs/FastSpeech2/config/Arabic/train.yaml\"\n",
    "    vocoder_config_path = \"cfgs/FastSpeech2/model_config/hifigan/config.json\"\n",
    "    speaker_pre_trained_path = \"data/model_weights/hifigan/generator_universal.pth.tar\"\n",
    "\n",
    "    model = TextToSpeech(prepare_tts_model_path, model_config_path, train_config_path, vocoder_config_path, speaker_pre_trained_path,root_path)\n",
    "    return model"
   ]
  },
  {
   "cell_type": "code",
   "execution_count": 16,
   "id": "e36b2e0b",
   "metadata": {},
   "outputs": [
    {
     "name": "stdout",
     "output_type": "stream",
     "text": [
      "Removing weight norm...\n"
     ]
    }
   ],
   "source": [
    "model = load_model()"
   ]
  },
  {
   "cell_type": "code",
   "execution_count": 17,
   "id": "5b9c0bb4",
   "metadata": {},
   "outputs": [
    {
     "name": "stdout",
     "output_type": "stream",
     "text": [
      "F:\\jupyter_workspace\\new_backend\n"
     ]
    }
   ],
   "source": [
    "%cd .."
   ]
  },
  {
   "cell_type": "code",
   "execution_count": 18,
   "id": "a1440f6e",
   "metadata": {},
   "outputs": [],
   "source": [
    "def Male(arabic_text):\n",
    "    model.synthesize(arabic_text)\n",
    "    print(\"Male function is done ^_^\")"
   ]
  },
  {
   "cell_type": "code",
   "execution_count": 19,
   "id": "9fbd0b17",
   "metadata": {},
   "outputs": [],
   "source": [
    "def Female(arabic_text):\n",
    "    language = 'ar'\n",
    "    myobj = gTTS(text= arabic_text, lang=language, slow=False)\n",
    "    myobj.save(os.path.join( '.',f\"arabic_sound.mp3\" ))\n",
    "    print(\"Female function is done ^_^\")"
   ]
  },
  {
   "cell_type": "code",
   "execution_count": 20,
   "id": "27f65369",
   "metadata": {},
   "outputs": [],
   "source": [
    "def compute_arabic_sound_duration(arabic_sound):\n",
    "    audio = MP3(arabic_sound)\n",
    "    sound_duration = audio.info.length\n",
    "    return sound_duration"
   ]
  },
  {
   "cell_type": "code",
   "execution_count": 21,
   "id": "b12d69a3",
   "metadata": {},
   "outputs": [],
   "source": [
    "def compute_video_duration(video_path):\n",
    "    # create video capture object\n",
    "    data = cv2.VideoCapture(video_path)\n",
    "    \n",
    "    # count the number of frames\n",
    "    frames = data.get(cv2.CAP_PROP_FRAME_COUNT)\n",
    "    fps = data.get(cv2.CAP_PROP_FPS)\n",
    "    \n",
    "    # calculate duration of the video\n",
    "    video_duration = float(frames / fps)\n",
    "    video_time = datetime.timedelta(seconds=video_duration)\n",
    "    print(f\"duration in seconds: {video_duration}\")\n",
    "    print(f\"video time: {video_time}\")\n",
    "    return video_duration"
   ]
  },
  {
   "cell_type": "code",
   "execution_count": 28,
   "id": "f2aef10f",
   "metadata": {},
   "outputs": [],
   "source": [
    "def get_compressed_arabic_sound(arabic_sound,video_path):\n",
    "    song, fs = librosa.load(arabic_sound)\n",
    "\n",
    "    compress_sound = librosa.effects.time_stretch(song, float(compute_arabic_sound_duration(arabic_sound)/compute_video_duration(video_path)))\n",
    "\n",
    "    scipy.io.wavfile.write(\"compressed_arabic_sound.wav\", fs, compress_sound)\n",
    "    print(\"Combressed function is done ^_^\")"
   ]
  },
  {
   "cell_type": "code",
   "execution_count": 29,
   "id": "a39257cb",
   "metadata": {},
   "outputs": [],
   "source": [
    "def get_final_video(final_cut ,compressed_arabic_sound):\n",
    "    # loading video dsa gfg intro video\n",
    "    clip = VideoFileClip(final_cut )\n",
    "    \n",
    "    # loading audio file\n",
    "    audioclip = AudioFileClip(compressed_arabic_sound)\n",
    "    \n",
    "    # adding audio to the video clip\n",
    "    videoclip = clip.set_audio(audioclip)\n",
    "\n",
    "    #saving video\n",
    "    videoclip.write_videofile(\"modablg.mp4\")"
   ]
  },
  {
   "cell_type": "code",
   "execution_count": 30,
   "id": "5329121b",
   "metadata": {},
   "outputs": [],
   "source": [
    "def get_video_from_sound(arabic_text,arabic_sound,final_cut ,compressed_arabic_sound):\n",
    "    get_arabic_sound(arabic_text)\n",
    "    get_compressed_arabic_sound(arabic_sound,video_path)\n",
    "    get_final_video(final_cut ,compressed_arabic_sound)"
   ]
  },
  {
   "cell_type": "code",
   "execution_count": 31,
   "id": "59b274b2",
   "metadata": {},
   "outputs": [],
   "source": [
    "def get_arabic_sound(ar_result,gender):\n",
    "    if gender == 'M':\n",
    "        Male(ar_result)\n",
    "        return \"M\"\n",
    "    else:\n",
    "        try:\n",
    "            ar_result_copy = vocalizer.tashkeel(ar_result)\n",
    "            Female(ar_result_copy)\n",
    "            return \"F\"\n",
    "        except:\n",
    "            Male(ar_result)\n",
    "            return \"M\""
   ]
  },
  {
   "cell_type": "code",
   "execution_count": 32,
   "id": "7a85bb46",
   "metadata": {},
   "outputs": [],
   "source": [
    "def Modablaj(gender=\"F\"):\n",
    "    # Get Sound from video\n",
    "    video_path = 'video.mp4'\n",
    "    sound_path = 'sound.wav'\n",
    "    final_cut='final_cut.mp4' #frames\n",
    "    arabic_sound = 'arabic_sound.mp3'\n",
    "    compressed_arabic_sound = 'compressed_arabic_sound.wav'\n",
    "    final_video = 'modablg.mp4'\n",
    "    #####################################################\n",
    "    clipping(video_path,sound_path,final_cut)\n",
    "    \n",
    "    en_text = recognition(sound_path)\n",
    "    \n",
    "    en_minutes , en_transcript = transcript_seb(en_text,sound_path)\n",
    "    \n",
    "    ar_text = translation(en_text)\n",
    "    \n",
    "    G = get_arabic_sound(ar_text,gender)\n",
    "    \n",
    "    ar_minutes , ar_transcript = transcript_seb(ar_text,sound_path)\n",
    "    \n",
    "    if G == \"M\":\n",
    "        p = r\"F:\\jupyter_workspace\\new_backendklaam\\sample.wav\"\n",
    "        get_compressed_arabic_sound(p,video_path)\n",
    "    else:\n",
    "        get_compressed_arabic_sound(arabic_sound,video_path)\n",
    "    \n",
    "    get_final_video(final_cut,compressed_arabic_sound)\n",
    "    \n",
    "    return en_minutes , ar_minutes , ar_transcript\n",
    "    "
   ]
  },
  {
   "cell_type": "code",
   "execution_count": 33,
   "id": "07811ed2",
   "metadata": {},
   "outputs": [
    {
     "name": "stdout",
     "output_type": "stream",
     "text": [
      "Clipping function is starting ^_^\n",
      "MoviePy - Writing audio in sound.wav\n"
     ]
    },
    {
     "name": "stderr",
     "output_type": "stream",
     "text": [
      "                                                                      \r"
     ]
    },
    {
     "name": "stdout",
     "output_type": "stream",
     "text": [
      "MoviePy - Done.\n",
      "Moviepy - Building video final_cut.mp4.\n",
      "Moviepy - Writing video final_cut.mp4\n",
      "\n"
     ]
    },
    {
     "name": "stderr",
     "output_type": "stream",
     "text": [
      "                                                                 \r"
     ]
    },
    {
     "name": "stdout",
     "output_type": "stream",
     "text": [
      "Moviepy - Done !\n",
      "Moviepy - video ready final_cut.mp4\n",
      "Clipping function is done ^_^\n",
      "Recognation function is done ^_^\n",
      "get_sound_length function is done ^_^\n",
      "Transcript function is done ^_^\n",
      "Translation function is done ^_^\n",
      "Female function is done ^_^\n",
      "get_sound_length function is done ^_^\n",
      "Transcript function is done ^_^\n",
      "duration in seconds: 69.875\n",
      "video time: 0:01:09.875000\n",
      "Combressed function is done ^_^\n",
      "Moviepy - Building video modablg.mp4.\n",
      "MoviePy - Writing audio in modablgTEMP_MPY_wvf_snd.mp3\n"
     ]
    },
    {
     "name": "stderr",
     "output_type": "stream",
     "text": [
      "                                                                      \r"
     ]
    },
    {
     "name": "stdout",
     "output_type": "stream",
     "text": [
      "MoviePy - Done.\n",
      "Moviepy - Writing video modablg.mp4\n",
      "\n"
     ]
    },
    {
     "name": "stderr",
     "output_type": "stream",
     "text": [
      "                                                                 "
     ]
    },
    {
     "name": "stdout",
     "output_type": "stream",
     "text": [
      "Moviepy - Done !\n",
      "Moviepy - video ready modablg.mp4\n"
     ]
    },
    {
     "name": "stderr",
     "output_type": "stream",
     "text": [
      "\r"
     ]
    },
    {
     "data": {
      "text/plain": [
       "(['0:00', '0:30', '1:00'],\n",
       " [\"0:00 let's assume your monthly income were to somehow double. congratulations. you can now, for the most part of four, to buy two times more stuff. but what if the monthly income of everyone else would also double? well, in that case you'd no longer be able to buy two times more stuff, because, since everyone else also earns two times more, there would be two times more money chasing roughly the same number of goods. let's take things one step further. what\",\n",
       "  \"0:30 if your income doubles, but the income of everyone else triples? in that case, you'd actually become poor. why? because making two times more money is not enough to keep up with everyone else who now makes three times more. if there's an overall increase in the price of goods and services of x percent this year, you have to earn at least x percent more than last year to avoid becoming poor. in real terms. history makes the effects of inflation\",\n",
       "  '1:00 crystal Clear. today, each dollar buys you approximately 39 times less potatoes than 100 years ago, or 20 times less coffee, 24 times less bread and so on.'],\n",
       " ['0:00', '0:30', '1:00'],\n",
       " ['0:00 لنفترض أن دخلك الشهري تضاعف بطريقة أو بأخرى. تهنئة!. يمكنك الآن، بالنسبة للجزء الأكبر من أربعة، شراء مرتين المزيد من الأشياء. ولكن ماذا لو تضاعف الدخل الشهري لأي شخص آخر ؟ حسنًا، في هذه الحالة، لن تتمكن بعد الآن من شراء المزيد من الأشياء مرتين، لأنه نظرًا لأن الجميع يكسبون أيضًا مرتين أكثر، فسيكون هناك ضعف المال الذي يطارد نفس العدد من السلع تقريبًا. دعونا نأخذ الأمور خطوة أخرى إلى الأمام. ماذا لو تضاعف دخلك، لكن دخل الجميع',\n",
       "  '0:30 يتضاعف ثلاث مرات ؟ في هذه الحالة، ستصبح فقيرًا بالفعل. لماذا ا ؟ لأن كسب المزيد من المال مرتين لا يكفي لمواكبة أي شخص آخر الذي يجعل الآن ثلاث مرات أكثر.. إذا كانت هناك زيادة عامة في أسعار السلع والخدمات بنسبة X في المئة هذا العام، عليك أن تكسب ما لا يقل عن X في المئة أكثر من العام الماضي لتجنب أن تصبح فقيرة. بالقيمة الفعلية( ميزانية). التاريخ يجعل آثار التضخم واضحة وضوح الشمس. اليوم، كل دولار يشتري',\n",
       "  '1:00 لك ما يقرب من 39 مرة أقل من البطاطا من 100 سنة مضت، أو 20 مرة أقل من القهوة، 24 مرة أقل من الخبز وهلم جرا.'])"
      ]
     },
     "execution_count": 33,
     "metadata": {},
     "output_type": "execute_result"
    }
   ],
   "source": [
    "Modablaj(\"F\")"
   ]
  }
 ],
 "metadata": {
  "kernelspec": {
   "display_name": "Python 3 (ipykernel)",
   "language": "python",
   "name": "python3"
  },
  "language_info": {
   "codemirror_mode": {
    "name": "ipython",
    "version": 3
   },
   "file_extension": ".py",
   "mimetype": "text/x-python",
   "name": "python",
   "nbconvert_exporter": "python",
   "pygments_lexer": "ipython3",
   "version": "3.10.9"
  }
 },
 "nbformat": 4,
 "nbformat_minor": 5
}
