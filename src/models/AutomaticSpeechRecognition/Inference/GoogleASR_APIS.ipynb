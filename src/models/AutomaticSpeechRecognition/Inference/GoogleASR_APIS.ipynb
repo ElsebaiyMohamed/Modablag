{
 "cells": [
  {
   "cell_type": "code",
   "execution_count": null,
   "metadata": {},
   "outputs": [],
   "source": [
    "# !pip install SpeechRecognition"
   ]
  },
  {
   "cell_type": "code",
   "execution_count": 10,
   "metadata": {},
   "outputs": [],
   "source": [
    "import speech_recognition as sr\n",
    "import os"
   ]
  },
  {
   "cell_type": "code",
   "execution_count": 17,
   "metadata": {},
   "outputs": [],
   "source": [
    "def recognition(sound_path):\n",
    "    audio = sr.AudioFile(sound_path)\n",
    "    with audio as source:\n",
    "        audio_file = sr.Recognizer().record(source)\n",
    "    result = sr.Recognizer().recognize_google(audio_file, pfilter=1)\n",
    "\n",
    "    filename = sound_path.split(os.sep)[-1].split('.')[0] + '.txt'\n",
    "    filepath = f'{os.sep}'.join(sound_path.split(os.sep)[:-1]) + filename\n",
    "    with open(f'{filepath}', mode='w') as file:\n",
    "        file.write(result)\n",
    "        \n",
    "        \n",
    "    return filepath"
   ]
  },
  {
   "cell_type": "code",
   "execution_count": 29,
   "metadata": {},
   "outputs": [
    {
     "name": "stdout",
     "output_type": "stream",
     "text": [
      "C:\\Users\\20101\\Desktop\\graduation\\Code\\AI_Part\\1-AutomaticSpeechRecognition\\Inferencesample.txt\n",
      "he hoped there would be stew for dinner turnips and carrots and bruised potatoes and fat mutton pieces to be labelled out in thick peppered flour fat and sauce\n"
     ]
    }
   ],
   "source": [
    "path_to_audio = r'C:\\Users\\20101\\Desktop\\graduation\\Code\\AI_Part\\1-AutomaticSpeechRecognition\\Inference\\sample.wav'\n",
    "transcript_path = recognition(path_to_audio)\n",
    "with open(transcript_path) as f:\n",
    "    transcript = f.read()\n",
    "    \n",
    "    \n",
    "print(transcript_path)\n",
    "print(transcript)\n"
   ]
  },
  {
   "cell_type": "code",
   "execution_count": null,
   "metadata": {},
   "outputs": [],
   "source": []
  },
  {
   "cell_type": "code",
   "execution_count": null,
   "metadata": {},
   "outputs": [],
   "source": []
  }
 ],
 "metadata": {
  "kernelspec": {
   "display_name": "Python 3",
   "language": "python",
   "name": "python3"
  },
  "language_info": {
   "codemirror_mode": {
    "name": "ipython",
    "version": 3
   },
   "file_extension": ".py",
   "mimetype": "text/x-python",
   "name": "python",
   "nbconvert_exporter": "python",
   "pygments_lexer": "ipython3",
   "version": "3.10.9"
  },
  "orig_nbformat": 4
 },
 "nbformat": 4,
 "nbformat_minor": 2
}
