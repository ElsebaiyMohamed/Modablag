{
 "cells": [
  {
   "cell_type": "code",
   "execution_count": 1,
   "metadata": {},
   "outputs": [],
   "source": [
    "from translate import Translator"
   ]
  },
  {
   "cell_type": "code",
   "execution_count": 4,
   "metadata": {},
   "outputs": [],
   "source": [
    "def translation(transcript):\n",
    "    translator= Translator(to_lang=\"ar\")\n",
    "    final_transcript =[]\n",
    "    sentences = transcript.split(\".\")\n",
    "    for sent in sentences:\n",
    "        if len(sent)>500:\n",
    "            new_sentences = sent.split(\",\")\n",
    "            status = []\n",
    "            for new_sent in new_sentences:\n",
    "                status.append(translator.translate(new_sent))\n",
    "            final_transcript.append(\" \".join(status))\n",
    "        else:    \n",
    "            final_transcript.append(translator.translate(sent))\n",
    "    arabic_text = \". \".join(final_transcript)\n",
    "\n",
    "    return arabic_text"
   ]
  },
  {
   "cell_type": "code",
   "execution_count": 5,
   "metadata": {},
   "outputs": [
    {
     "data": {
      "text/plain": [
       "'مرحبًا، كيفك؟'"
      ]
     },
     "execution_count": 5,
     "metadata": {},
     "output_type": "execute_result"
    }
   ],
   "source": [
    "text = 'Hello, how are you?'\n",
    "translation(text)"
   ]
  },
  {
   "cell_type": "code",
   "execution_count": null,
   "metadata": {},
   "outputs": [],
   "source": []
  }
 ],
 "metadata": {
  "kernelspec": {
   "display_name": "Python 3",
   "language": "python",
   "name": "python3"
  },
  "language_info": {
   "codemirror_mode": {
    "name": "ipython",
    "version": 3
   },
   "file_extension": ".py",
   "mimetype": "text/x-python",
   "name": "python",
   "nbconvert_exporter": "python",
   "pygments_lexer": "ipython3",
   "version": "3.10.9"
  },
  "orig_nbformat": 4
 },
 "nbformat": 4,
 "nbformat_minor": 2
}
